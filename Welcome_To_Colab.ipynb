{
  "cells": [
    {
      "cell_type": "markdown",
      "metadata": {
        "id": "view-in-github",
        "colab_type": "text"
      },
      "source": [
        "<a href=\"https://colab.research.google.com/github/Rohithsaravanan/ROHICHECK/blob/main/Welcome_To_Colab.ipynb\" target=\"_parent\"><img src=\"https://colab.research.google.com/assets/colab-badge.svg\" alt=\"Open In Colab\"/></a>"
      ]
    },
    {
      "cell_type": "code",
      "source": [
        "for i in range(int(input())):\n",
        "  n=int(input())\n",
        "  a=\" \"\n",
        "  while(n>0):\n",
        "    dig=n%10\n",
        "    a=str(dig)+\",\"+a\n",
        "    print(a,end=\" \")\n",
        "    n//=10"
      ],
      "metadata": {
        "id": "n6ph3k6ilWrQ",
        "outputId": "4c2d48ea-11cf-4e8c-bb79-85c2c5173609",
        "colab": {
          "base_uri": "https://localhost:8080/"
        }
      },
      "execution_count": 1,
      "outputs": [
        {
          "output_type": "stream",
          "name": "stdout",
          "text": [
            "1\n",
            "512\n",
            "2,  1,2,  5,1,2,  "
          ]
        }
      ]
    },
    {
      "cell_type": "markdown",
      "source": [
        "Narristic number\n"
      ],
      "metadata": {
        "id": "hPZKL8YQmN68"
      }
    },
    {
      "cell_type": "code",
      "source": [
        "for _ in range(int(input())):\n",
        "  n=int(input())\n",
        "  x=len(str(n))\n",
        "  m=0\n",
        "  t=n\n",
        "  while n!=0:\n",
        "    dv=n%10\n",
        "    m+=dv**x\n",
        "    n//=10\n",
        "  if m==t:\n",
        "    print(\"narristic\")\n",
        "  else:\n",
        "    print(\"not narristic\")"
      ],
      "metadata": {
        "id": "QS83jtowmSgu",
        "outputId": "903a60bc-f396-440e-b21c-e4946aa41ff2",
        "colab": {
          "base_uri": "https://localhost:8080/"
        }
      },
      "execution_count": 5,
      "outputs": [
        {
          "output_type": "stream",
          "name": "stdout",
          "text": [
            "3\n",
            "1634\n",
            "narristic\n",
            "20\n",
            "not narristic\n",
            "12\n",
            "not narristic\n"
          ]
        }
      ]
    },
    {
      "cell_type": "code",
      "source": [
        "for _ in range(int(input())):\n",
        "  n=int(input())\n",
        "  x=len(str(n))\n",
        "  t=n\n",
        "  p=n\n",
        "  c=0\n",
        "  while(n>0):\n",
        "    c+=1\n",
        "    n//=10\n",
        "  res=0\n",
        "  while(t>0):\n",
        "    dv=t%10\n",
        "    res+=dv**c\n",
        "    t//=10\n",
        "  if(res==p):\n",
        "    print(\"narristic\")\n",
        "  else:\n",
        "    print(\"not narristic\")"
      ],
      "metadata": {
        "id": "nB0YGdC-puxN",
        "outputId": "3cc11cbf-ee92-498e-edb9-d077a3aac458",
        "colab": {
          "base_uri": "https://localhost:8080/"
        }
      },
      "execution_count": 6,
      "outputs": [
        {
          "output_type": "stream",
          "name": "stdout",
          "text": [
            "3\n",
            "1634\n",
            "narristic\n",
            "567\n",
            "not narristic\n",
            "8990\n",
            "not narristic\n"
          ]
        }
      ]
    },
    {
      "cell_type": "markdown",
      "source": [
        "PATTERNS\n"
      ],
      "metadata": {
        "id": "c97sR1G19OAb"
      }
    },
    {
      "cell_type": "code",
      "source": [
        "x=int(input())\n",
        "for i in range(x):\n",
        "  for j in range(x):\n",
        "    if i==0 or i==x-1 or j==0 or j==x-1:\n",
        "      print(\"*\",end=\" \")\n",
        "    else:\n",
        "      print(\" \",end=\" \")\n",
        "  print()\n",
        ""
      ],
      "metadata": {
        "id": "jVXYUbTJ9VnM",
        "outputId": "19957470-ede7-45b0-c1b2-7526d8bd4aaf",
        "colab": {
          "base_uri": "https://localhost:8080/"
        }
      },
      "execution_count": 10,
      "outputs": [
        {
          "output_type": "stream",
          "name": "stdout",
          "text": [
            "5\n",
            "* * * * * \n",
            "*       * \n",
            "*       * \n",
            "*       * \n",
            "* * * * * \n"
          ]
        }
      ]
    },
    {
      "cell_type": "code",
      "source": [
        "x=int(input())\n",
        "for i in range(x):\n",
        "  for j in range(x):\n",
        "    if i==j or i+j==x-1 or j==0 or j==x-1 or i==x//2:\n",
        "      print(\"*\",end=\" \")\n",
        "    else:\n",
        "      print(\" \",end=\" \")\n",
        "  print()\n",
        ""
      ],
      "metadata": {
        "id": "wiCUtMYM-nSs",
        "outputId": "b8d44ed5-670d-4025-9647-4de5f4706690",
        "colab": {
          "base_uri": "https://localhost:8080/"
        }
      },
      "execution_count": 19,
      "outputs": [
        {
          "output_type": "stream",
          "name": "stdout",
          "text": [
            "7\n",
            "*           * \n",
            "* *       * * \n",
            "*   *   *   * \n",
            "* * * * * * * \n",
            "*   *   *   * \n",
            "* *       * * \n",
            "*           * \n"
          ]
        }
      ]
    },
    {
      "cell_type": "markdown",
      "source": [
        "Right angle triangle"
      ],
      "metadata": {
        "id": "HRgqfrI7Bl3S"
      }
    },
    {
      "cell_type": "code",
      "source": [
        "n=int(input())\n",
        "for i in range(n):\n",
        "  for j in range(n):\n",
        "    if i+j==n-1 or i==0 or j==0 :\n",
        "      print(\"*\",end=\" \")\n",
        "    else:\n",
        "      print(\" \",end=\" \")\n",
        "  print()"
      ],
      "metadata": {
        "id": "9jI0DOTvCsBJ",
        "outputId": "a7455de5-0910-44ed-eb8e-2c8f2595d7ca",
        "colab": {
          "base_uri": "https://localhost:8080/"
        }
      },
      "execution_count": 28,
      "outputs": [
        {
          "output_type": "stream",
          "name": "stdout",
          "text": [
            "5\n",
            "* * * * * \n",
            "*     *   \n",
            "*   *     \n",
            "* *       \n",
            "*         \n"
          ]
        }
      ]
    },
    {
      "cell_type": "code",
      "source": [
        "n=int(input())\n",
        "for i in range(n):\n",
        "  for j in range((n)):\n",
        "    if  j==0 or i==j or i==n-1:\n",
        "      print(\"*\",end=\" \")\n",
        "    else:\n",
        "      print(\" \",end=\" \")\n",
        "  print()\n",
        "n-=1\n",
        "for i in range(n):\n",
        "  for j in range((n)):\n",
        "    if  i+j==n-1 or j==0:\n",
        "      print(\"*\",end=\" \")\n",
        "    else:\n",
        "      print(\" \",end=\" \")\n",
        "  print()\n"
      ],
      "metadata": {
        "id": "0jRTR1VnDhtv",
        "outputId": "11ba6a10-dd30-4306-fbbc-ad32df56cecc",
        "colab": {
          "base_uri": "https://localhost:8080/"
        }
      },
      "execution_count": 48,
      "outputs": [
        {
          "output_type": "stream",
          "name": "stdout",
          "text": [
            "7\n",
            "*             \n",
            "* *           \n",
            "*   *         \n",
            "*     *       \n",
            "*       *     \n",
            "*         *   \n",
            "* * * * * * * \n",
            "*         * \n",
            "*       *   \n",
            "*     *     \n",
            "*   *       \n",
            "* *         \n",
            "*           \n"
          ]
        }
      ]
    },
    {
      "cell_type": "markdown",
      "source": [
        "Inverse of above pattern\n"
      ],
      "metadata": {
        "id": "1T7h5jwOIb71"
      }
    },
    {
      "cell_type": "code",
      "source": [
        "n=int(input())\n",
        "for i in range(n):\n",
        "  for j in range((n)):\n",
        "    if  j==0 and i==j and i==n-1:\n",
        "      print(\"*\",end=\" \")\n",
        "    else:\n",
        "      print(\" \",end=\" \")\n",
        "  print()\n",
        "n-=1\n",
        "for i in range(n):\n",
        "  for j in range((n)):\n",
        "    if  i+j!=n-1 and j!=0:\n",
        "      print(\"*\",end=\" \")\n",
        "    else:\n",
        "      print(\" \",end=\" \")\n",
        "  print()"
      ],
      "metadata": {
        "id": "jAhCE5HXIvrg",
        "outputId": "37db75be-5d2d-496d-931e-2654c08b3061",
        "colab": {
          "base_uri": "https://localhost:8080/"
        }
      },
      "execution_count": 53,
      "outputs": [
        {
          "output_type": "stream",
          "name": "stdout",
          "text": [
            "7\n",
            "              \n",
            "              \n",
            "              \n",
            "              \n",
            "              \n",
            "              \n",
            "              \n",
            "  * * * *   \n",
            "  * * *   * \n",
            "  * *   * * \n",
            "  *   * * * \n",
            "    * * * * \n",
            "  * * * * * \n"
          ]
        }
      ]
    },
    {
      "cell_type": "markdown",
      "source": [
        "\n",
        "\n",
        "Alphabatical patterns\n",
        "\n"
      ],
      "metadata": {
        "id": "B_H2xYqQgM-e"
      }
    },
    {
      "cell_type": "code",
      "source": [
        "n=int(input())\n",
        "for i in range(n):\n",
        "  for j in range(i+1):\n",
        "    print(chr(65+j),end=\" \")\n",
        "  print()\n"
      ],
      "metadata": {
        "id": "ouyI7GyTgR8V",
        "outputId": "8c9058f7-a991-487c-f54f-b442e608365f",
        "colab": {
          "base_uri": "https://localhost:8080/"
        }
      },
      "execution_count": 1,
      "outputs": [
        {
          "output_type": "stream",
          "name": "stdout",
          "text": [
            "7\n",
            "A \n",
            "A B \n",
            "A B C \n",
            "A B C D \n",
            "A B C D E \n",
            "A B C D E F \n",
            "A B C D E F G \n"
          ]
        }
      ]
    },
    {
      "cell_type": "markdown",
      "source": [
        "Arithematic pattern\n"
      ],
      "metadata": {
        "id": "kiHcFGZihA3D"
      }
    },
    {
      "cell_type": "code",
      "source": [
        "n=int(input())\n",
        "for i in range(n):\n",
        "  for j in range(1,i+1):\n",
        "    print(j,end=\" \")\n",
        "  print()"
      ],
      "metadata": {
        "id": "dHwZ2dcdhGc_",
        "outputId": "672c93a8-28dc-43b0-b953-bc587130e48a",
        "colab": {
          "base_uri": "https://localhost:8080/"
        }
      },
      "execution_count": 6,
      "outputs": [
        {
          "output_type": "stream",
          "name": "stdout",
          "text": [
            "7\n",
            "\n",
            "1 \n",
            "1 2 \n",
            "1 2 3 \n",
            "1 2 3 4 \n",
            "1 2 3 4 5 \n",
            "1 2 3 4 5 6 \n"
          ]
        }
      ]
    },
    {
      "cell_type": "code",
      "source": [
        "n=int(input())\n",
        "k=1\n",
        "for i in range(n):\n",
        "  for j in range(i+1):\n",
        "    print(k,end=\" \")\n",
        "    k+=1\n",
        "  print()"
      ],
      "metadata": {
        "id": "IR8yEPYai28k",
        "outputId": "f80a8037-4bab-4e45-ec1f-e87e010e75f4",
        "colab": {
          "base_uri": "https://localhost:8080/"
        }
      },
      "execution_count": 8,
      "outputs": [
        {
          "output_type": "stream",
          "name": "stdout",
          "text": [
            "7\n",
            "1 \n",
            "2 3 \n",
            "4 5 6 \n",
            "7 8 9 10 \n",
            "11 12 13 14 15 \n",
            "16 17 18 19 20 21 \n",
            "22 23 24 25 26 27 28 \n"
          ]
        }
      ]
    },
    {
      "cell_type": "code",
      "source": [
        "n=int(input())\n",
        "k=1\n",
        "for i in range(n):\n",
        "  for j in range(1,i+1):\n",
        "    print(chr(k+64),end=\" \")\n",
        "    k+=1\n",
        "  print()"
      ],
      "metadata": {
        "id": "XWFui-otl-aZ",
        "outputId": "c79a4daf-9215-455d-aa9b-cf6ae8acd81d",
        "colab": {
          "base_uri": "https://localhost:8080/"
        }
      },
      "execution_count": 11,
      "outputs": [
        {
          "output_type": "stream",
          "name": "stdout",
          "text": [
            "6\n",
            "\n",
            "A \n",
            "B C \n",
            "D E F \n",
            "G H I J \n",
            "K L M N O \n"
          ]
        }
      ]
    },
    {
      "cell_type": "code",
      "source": [
        "n = int(input())\n",
        "k = 10\n",
        "for i in range(n - 1,-1,-1):\n",
        "    for j in range(i - 1):\n",
        "        print(k, end=\" \")\n",
        "        k -= 1\n",
        "    print()"
      ],
      "metadata": {
        "id": "plWdOh2WpolQ",
        "outputId": "17683e59-f870-4555-f558-90c5dd92e5eb",
        "colab": {
          "base_uri": "https://localhost:8080/"
        }
      },
      "execution_count": 26,
      "outputs": [
        {
          "output_type": "stream",
          "name": "stdout",
          "text": [
            "5\n",
            "10 9 8 \n",
            "7 6 \n",
            "5 \n",
            "\n",
            "\n"
          ]
        }
      ]
    },
    {
      "cell_type": "code",
      "source": [
        "n = int(input())\n",
        "k = n*(n+1)//2\n",
        "for i in range(n,0,-1):\n",
        "    for j in range(1,i +1):\n",
        "        print(k, end=\" \")\n",
        "        k -= 1\n",
        "    print()"
      ],
      "metadata": {
        "id": "pEn3_0oWseeK",
        "outputId": "2ca7eef4-6c50-41cc-b01a-9147bd279dfa",
        "colab": {
          "base_uri": "https://localhost:8080/"
        }
      },
      "execution_count": 27,
      "outputs": [
        {
          "output_type": "stream",
          "name": "stdout",
          "text": [
            "5\n",
            "15 14 13 12 11 \n",
            "10 9 8 7 \n",
            "6 5 4 \n",
            "3 2 \n",
            "1 \n"
          ]
        }
      ]
    }
  ],
  "metadata": {
    "colab": {
      "name": "Welcome To Colab",
      "provenance": [],
      "include_colab_link": true
    },
    "kernelspec": {
      "display_name": "Python 3",
      "name": "python3"
    }
  },
  "nbformat": 4,
  "nbformat_minor": 0
}