{
  "cells": [
    {
      "cell_type": "markdown",
      "metadata": {
        "id": "view-in-github",
        "colab_type": "text"
      },
      "source": [
        "<a href=\"https://colab.research.google.com/github/Rohithsaravanan/ROHICHECK/blob/main/Welcome_To_Colab.ipynb\" target=\"_parent\"><img src=\"https://colab.research.google.com/assets/colab-badge.svg\" alt=\"Open In Colab\"/></a>"
      ]
    },
    {
      "cell_type": "code",
      "source": [
        "import codecs, json\n",
        "import pandas as pd\n",
        "from textblob import TextBlob\n",
        "import re\n",
        "import numpy as np\n",
        "from sklearn.model_selection import train_test_split, cross_val_score\n",
        "from sklearn.neighbors import KNeighborsClassifier\n",
        "from sklearn.ensemble import RandomForestClassifier\n",
        "from sklearn.linear_model import LogisticRegression\n",
        "from sklearn.metrics import roc_auc_score, roc_curve\n",
        "from sklearn import metrics\n",
        "import matplotlib.pyplot as plt"
      ],
      "metadata": {
        "id": "vArSkk_0ytdT"
      },
      "execution_count": 1,
      "outputs": []
    },
    {
      "cell_type": "code",
      "source": [
        "def clean_tweet(tweet):\n",
        "    return ' '.join(re.sub(\"(@[A-Za-z0-9]+)|([^0-9A-Za-z \\t])|(\\w+:\\/\\S+)\", \" \", tweet).split())\n",
        "\n",
        "def textbl(tweet):\n",
        "    text = clean_tweet(tweet)\n",
        "    analysis = TextBlob(text)\n",
        "    return analysis.sentiment.polarity\n",
        "\n",
        "def sent(tweet):\n",
        "    text = clean_tweet(tweet)\n",
        "    analysis = TextBlob(text)\n",
        "    if analysis.sentiment.polarity > 0.5:\n",
        "        return 0\n",
        "    else:\n",
        "        return 1\n",
        "\n",
        "with codecs.open('/content/depressionc.json', 'r',\n",
        "                 'utf-8') as f:\n",
        "    tweets = json.load(f)\n",
        "list_tweets = [list(elem.values()) for elem in tweets]\n",
        "list_columns = list(tweets[0].keys())\n",
        "df = pd.DataFrame(list_tweets, columns=list_columns)\n",
        "\n",
        "df['Depressed'] = np.array([str(sent(tweet)) for tweet in df['text']])"
      ],
      "metadata": {
        "id": "OM92xxwCzJoo"
      },
      "execution_count": 18,
      "outputs": []
    },
    {
      "cell_type": "code",
      "source": [
        "d = df.drop(['user','text','url','fullname','timestamp','id'], axis=1)\n",
        "\n",
        "y = d.Depressed\n",
        "X = d.drop('Depressed', axis=1)\n",
        "X = pd.get_dummies(X, columns=['html'], drop_first=True)\n",
        "X_train, X_test, y_train, y_test = train_test_split(X, y,test_size=0.3)"
      ],
      "metadata": {
        "id": "iPVUWb2V4VDn"
      },
      "execution_count": 19,
      "outputs": []
    },
    {
      "cell_type": "code",
      "source": [
        "knn = KNeighborsClassifier(n_neighbors = 5)\n",
        "trained_knn = knn.fit(X_train, y_train)\n",
        "acc_knn = round(knn.score(X_train, y_train) * 100, 2)\n",
        "print(\"Training Accuracy:\")\n",
        "print(acc_knn)\n",
        "test_knn = knn.fit(X_test, y_test)\n",
        "acc_test_knn = round(knn.score(X_test, y_test) * 100, 2)\n",
        "print(\"Testing Accuracy:\")\n",
        "print(acc_test_knn)\n",
        "y_pred = knn.predict(X_test)\n",
        "print(\"Confusion Matrix:\")\n",
        "print(metrics.confusion_matrix(y_test, y_pred))\n",
        "print(\"Classification Matrix:\")\n",
        "print(metrics.classification_report(y_test, y_pred))\n",
        "cross_val = cross_val_score(KNeighborsClassifier(), X, y, scoring='accuracy', cv=10)\n",
        "print(\"Cross Validation value:\")\n",
        "print(cross_val.mean())\n",
        "y_probs = knn.predict_proba(X_test)[:, 1] # Assuming binary classification; change index if needed\n",
        "roc = roc_auc_score(y_test.astype(int), y_probs) # Ensure y_test is integer type\n",
        "print('AUC: %.3f' % roc)\n",
        "fpr, tpr, thresholds = roc_curve(y_test.astype(int), y_probs) # Ensure y_test is integer type\n",
        "plt.plot([0, 1], [0, 1], linestyle='--')\n",
        "plt.plot(fpr, tpr, marker='.')\n",
        "plt.show()\n"
      ],
      "metadata": {
        "id": "nPTJZzOA4c6F",
        "outputId": "e29b2432-0a79-4296-b61d-9123d0f3af60",
        "colab": {
          "base_uri": "https://localhost:8080/",
          "height": 791
        }
      },
      "execution_count": 20,
      "outputs": [
        {
          "output_type": "stream",
          "name": "stdout",
          "text": [
            "Training Accuracy:\n",
            "81.36\n",
            "Testing Accuracy:\n",
            "78.95\n",
            "Confusion Matrix:\n",
            "[[ 219  317]\n",
            " [ 111 1386]]\n",
            "Classification Matrix:\n",
            "              precision    recall  f1-score   support\n",
            "\n",
            "           0       0.66      0.41      0.51       536\n",
            "           1       0.81      0.93      0.87      1497\n",
            "\n",
            "    accuracy                           0.79      2033\n",
            "   macro avg       0.74      0.67      0.69      2033\n",
            "weighted avg       0.77      0.79      0.77      2033\n",
            "\n",
            "Cross Validation value:\n",
            "0.7106022579225544\n",
            "AUC: 0.802\n"
          ]
        },
        {
          "output_type": "display_data",
          "data": {
            "text/plain": [
              "<Figure size 640x480 with 1 Axes>"
            ],
            "image/png": "[encoded data removed]"
          },
          "metadata": {}
        }
      ]
    },
    {
      "cell_type": "code",
      "source": [
        "algorithm = ['K-nearest neighbor', 'Logistic Regression', 'Random Forest']\n",
        "trainaccuracy = [acc_knn, train_LR_accuracy, train_RF_accuracy]\n",
        "testaccuracy = [acc_test_knn, test_LR_accuracy, test_RF_accuracy]\n",
        "index = np.arange(len(algorithm))\n",
        "\n",
        "fig, ax = plt.subplots()\n",
        "bar_width = 0.35\n",
        "opacity = 0.8\n",
        "\n",
        "rects1 = plt.bar(index, trainaccuracy, bar_width,\n",
        "                 alpha=opacity,\n",
        "                 color='b',\n",
        "                 label='Training Accuracy')\n",
        "\n",
        "rects2 = plt.bar(index + bar_width, testaccuracy, bar_width,\n",
        "                 alpha=opacity,\n",
        "                 color='g',\n",
        "                 label='Testing Accuracy')\n",
        "\n",
        "plt.xlabel('Algorithms')\n",
        "plt.ylabel('Accuracy')\n",
        "plt.title('Accuracy of algorithms')\n",
        "plt.xticks(index + bar_width, algorithm)\n",
        "plt.legend()\n",
        "plt.tight_layout()\n",
        "plt.show()\n",
        "\n",
        "\n",
        "# In[178]:\n",
        "\n",
        "\n",
        "algorithm = ['K-nearest neighbor', 'Logistic Regression', 'Random Forest']\n",
        "precision = [precision_KNN, precision_LR, precision_RF]\n",
        "recall = [recall_KNN, recall_LR, recall_RF]\n",
        "index = np.arange(len(algorithm))\n",
        "\n",
        "fig, ax = plt.subplots()\n",
        "bar_width = 0.35\n",
        "opacity = 0.8\n",
        "\n",
        "rects1 = plt.bar(index, trainaccuracy, bar_width,\n",
        "                 alpha=opacity,\n",
        "                 color='r',\n",
        "                 label='Precision')\n",
        "\n",
        "rects2 = plt.bar(index + bar_width, testaccuracy, bar_width,\n",
        "                 alpha=opacity,\n",
        "                 color='y',\n",
        "                 label='Recall')\n",
        "\n",
        "plt.xlabel('Algorithms')\n",
        "plt.ylabel('Units')\n",
        "plt.title('Precision/Recall of algorithms')\n",
        "plt.xticks(index + bar_width, algorithm)\n",
        "plt.legend()\n",
        "plt.tight_layout()\n",
        "plt.show()\n",
        "\n",
        "\n",
        "# In[176]:\n",
        "\n",
        "\n",
        "crossvalidationaccuracy = [cross_val_knn, cross_val_lr, cross_val_rf]\n",
        "y_pos = np.arange(len(algorithm))\n",
        "\n",
        "plt.barh(y_pos, crossvalidationaccuracy, align='center', alpha=0.5)\n",
        "plt.yticks(y_pos, algorithm)\n",
        "plt.xlabel('Accuracy')\n",
        "plt.title('Cross Validation Accuracy of Algorithms')\n",
        "\n",
        "plt.show()\n",
        "\n",
        "\n"
      ],
      "metadata": {
        "id": "9F4M2GVH8e7e",
        "outputId": "876eee9b-bc06-4797-ee34-b743a0bcd76c",
        "colab": {
          "base_uri": "https://localhost:8080/",
          "height": 235
        }
      },
      "execution_count": 21,
      "outputs": [
        {
          "output_type": "error",
          "ename": "NameError",
          "evalue": "name 'train_LR_accuracy' is not defined",
          "traceback": [
            "\u001b[0;31m---------------------------------------------------------------------------\u001b[0m",
            "\u001b[0;31mNameError\u001b[0m                                 Traceback (most recent call last)",
            "\u001b[0;32m<ipython-input-21-22133688b4a6>\u001b[0m in \u001b[0;36m<cell line: 0>\u001b[0;34m()\u001b[0m\n\u001b[1;32m      1\u001b[0m \u001b[0malgorithm\u001b[0m \u001b[0;34m=\u001b[0m \u001b[0;34m[\u001b[0m\u001b[0;34m'K-nearest neighbor'\u001b[0m\u001b[0;34m,\u001b[0m \u001b[0;34m'Logistic Regression'\u001b[0m\u001b[0;34m,\u001b[0m \u001b[0;34m'Random Forest'\u001b[0m\u001b[0;34m]\u001b[0m\u001b[0;34m\u001b[0m\u001b[0;34m\u001b[0m\u001b[0m\n\u001b[0;32m----> 2\u001b[0;31m \u001b[0mtrainaccuracy\u001b[0m \u001b[0;34m=\u001b[0m \u001b[0;34m[\u001b[0m\u001b[0macc_knn\u001b[0m\u001b[0;34m,\u001b[0m \u001b[0mtrain_LR_accuracy\u001b[0m\u001b[0;34m,\u001b[0m \u001b[0mtrain_RF_accuracy\u001b[0m\u001b[0;34m]\u001b[0m\u001b[0;34m\u001b[0m\u001b[0;34m\u001b[0m\u001b[0m\n\u001b[0m\u001b[1;32m      3\u001b[0m \u001b[0mtestaccuracy\u001b[0m \u001b[0;34m=\u001b[0m \u001b[0;34m[\u001b[0m\u001b[0macc_test_knn\u001b[0m\u001b[0;34m,\u001b[0m \u001b[0mtest_LR_accuracy\u001b[0m\u001b[0;34m,\u001b[0m \u001b[0mtest_RF_accuracy\u001b[0m\u001b[0;34m]\u001b[0m\u001b[0;34m\u001b[0m\u001b[0;34m\u001b[0m\u001b[0m\n\u001b[1;32m      4\u001b[0m \u001b[0mindex\u001b[0m \u001b[0;34m=\u001b[0m \u001b[0mnp\u001b[0m\u001b[0;34m.\u001b[0m\u001b[0marange\u001b[0m\u001b[0;34m(\u001b[0m\u001b[0mlen\u001b[0m\u001b[0;34m(\u001b[0m\u001b[0malgorithm\u001b[0m\u001b[0;34m)\u001b[0m\u001b[0;34m)\u001b[0m\u001b[0;34m\u001b[0m\u001b[0;34m\u001b[0m\u001b[0m\n\u001b[1;32m      5\u001b[0m \u001b[0;34m\u001b[0m\u001b[0m\n",
            "\u001b[0;31mNameError\u001b[0m: name 'train_LR_accuracy' is not defined"
          ]
        }
      ]
    }
  ],
  "metadata": {
    "colab": {
      "name": "Welcome To Colab",
      "provenance": [],
      "include_colab_link": true
    },
    "kernelspec": {
      "display_name": "Python 3",
      "name": "python3"
    }
  },
  "nbformat": 4,
  "nbformat_minor": 0
}