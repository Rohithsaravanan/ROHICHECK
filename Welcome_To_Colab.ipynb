{
  "cells": [
    {
      "cell_type": "markdown",
      "metadata": {
        "id": "view-in-github",
        "colab_type": "text"
      },
      "source": [
        "<a href=\"https://colab.research.google.com/github/Rohithsaravanan/ROHICHECK/blob/main/Welcome_To_Colab.ipynb\" target=\"_parent\"><img src=\"https://colab.research.google.com/assets/colab-badge.svg\" alt=\"Open In Colab\"/></a>"
      ]
    },
    {
      "cell_type": "code",
      "source": [
        "class Rohith:\n",
        ""
      ],
      "metadata": {
        "id": "kU0nLyeWtq6L"
      },
      "execution_count": null,
      "outputs": []
    },
    {
      "cell_type": "markdown",
      "source": [
        "What is OOP?\n",
        "Object-Oriented Programming (OOP) is a programming paradigm based on the concept of objects. Objects are instances of classes that encapsulate data (attributes) and behavior (methods). It allows developers to design software by modeling real-world entities as objects.\n",
        "\n",
        "So generally these oops are used for an efficient way of designing a software where it gives life to the real world objects into the programming interface.\n",
        "\n",
        "\n",
        "Types:\n",
        "Encapsulation: Bundling data and methods that operate on the data within a class.\n",
        "Inheritance: Creating new classes from existing ones to reuse and extend code.\n",
        "Polymorphism: Allowing objects to take on multiple forms, enabling flexibility.\n",
        "Abstraction: Hiding complex implementation details and exposing only the"
      ],
      "metadata": {
        "id": "e6wnvQOptyvw"
      }
    }
  ],
  "metadata": {
    "colab": {
      "name": "Welcome To Colab",
      "toc_visible": true,
      "provenance": [],
      "include_colab_link": true
    },
    "kernelspec": {
      "display_name": "Python 3",
      "name": "python3"
    }
  },
  "nbformat": 4,
  "nbformat_minor": 0
}